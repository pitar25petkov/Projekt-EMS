{
 "cells": [
  {
   "cell_type": "markdown",
   "id": "bfdcad8f-fb57-4c82-8be5-12cd425b5239",
   "metadata": {
    "tags": []
   },
   "source": [
    "# Einführung Projektgruppe Pandapower + Co-Simulation"
   ]
  },
  {
   "cell_type": "markdown",
   "id": "d2ccece0-a1bc-424b-bcac-fd40bd94f727",
   "metadata": {},
   "source": [
    "## Überblick\n",
    "\n",
    "Geplanter Inhalt der Übung zur Simulation von Strom-Netzen, -Erzeugung oder -Verbrauch mit Python."
   ]
  },
  {
   "cell_type": "markdown",
   "id": "b4d66f71-048d-49e6-8050-0b931500ae2b",
   "metadata": {},
   "source": [
    "Ideen:\n",
    "\n",
    "* Einzelne Komponenten aufbereiten: Batterie, PV-Modul, Lastprofil\n",
    "* Batterie: Basierend auf David Reihs?\n",
    "* PV: pvlib und Wettervorhersage für simples Erzeugungsmodell\n",
    "* Lastprofil: Standardlastprofil oder Beispieldatensatz aus Italien\n",
    "\n",
    "* Mit Stromnetz verbinden"
   ]
  },
  {
   "cell_type": "markdown",
   "id": "1851f37e-7042-46e4-8495-4676a9223e11",
   "metadata": {
    "tags": []
   },
   "source": [
    "## Installation\n",
    "\n",
    "Setup um mit der Präsentation mitmachen zu können, und danach direkt mit Python am Projekt weiterzuarbeiten."
   ]
  },
  {
   "cell_type": "markdown",
   "id": "3f4804dc-77c5-4b96-a3e8-78b8f0335af4",
   "metadata": {},
   "source": [
    "* Repository Download\n",
    "* If wanted: install Jupyterlab Desktop: https://github.com/jupyterlab/jupyterlab-desktop\n",
    "* miniconda installieren\n",
    "* Neue Environment und requirements.txt installieren\n",
    "* Anpassung Jupyterlab \n",
    "    * browser ohne Tab bar: https://stackoverflow.com/questions/51036132/running-jupyterlab-as-a-desktop-application-in-windows-10\n",
    "    * jupyterlab code formatter: https://jupyterlab-code-formatter.readthedocs.io/installation.html\n",
    "* git"
   ]
  },
  {
   "cell_type": "markdown",
   "id": "ba4fdd6b-c225-4816-af2a-5976c57562af",
   "metadata": {},
   "source": [
    "### Jupyterlab Anpassungen\n",
    "\n",
    "#### Browser ohne Tab bar\n",
    "\n",
    "Link: https://stackoverflow.com/questions/51036132/running-jupyterlab-as-a-desktop-application-in-windows-10\n",
    "\n",
    "Configuration generieren mit Anaconda Prompt / Bash / PowerShell:\n",
    "\n",
    "```jupyter lab --generate-config```\n",
    "\n",
    "Neues File öffnen mit Text Editor. Am Ende eine Zeile Einfügen, Pfad zu Google Chromes .exe oder anderem Browser anpassen.\n",
    "\n",
    "```c.NotebookApp.browser = \"C:/Program Files (x86)/Google/Chrome/Application/chrome.exe --app=%s\"```"
   ]
  },
  {
   "cell_type": "markdown",
   "id": "dc1e523c-5525-4fec-b69c-53a8fe92a60d",
   "metadata": {},
   "source": [
    "### Anbindung Wiener Netze Smart Meter Daten\n",
    "\n",
    "Wiener Netze Smart Meter Portal https://smartmeter-web.wienernetze.at/#/welcome.\n",
    "\n",
    "Git Repository fuer Abruf ueber API: https://github.com/platysma/vienna-smartmeter"
   ]
  },
  {
   "cell_type": "code",
   "execution_count": null,
   "id": "aba56961-63bc-4c59-9a0d-b69c7e1c7558",
   "metadata": {},
   "outputs": [],
   "source": []
  }
 ],
 "metadata": {
  "kernelspec": {
   "display_name": "Python 3 (ipykernel)",
   "language": "python",
   "name": "python3"
  },
  "language_info": {
   "codemirror_mode": {
    "name": "ipython",
    "version": 3
   },
   "file_extension": ".py",
   "mimetype": "text/x-python",
   "name": "python",
   "nbconvert_exporter": "python",
   "pygments_lexer": "ipython3",
   "version": "3.12.0"
  }
 },
 "nbformat": 4,
 "nbformat_minor": 5
}
