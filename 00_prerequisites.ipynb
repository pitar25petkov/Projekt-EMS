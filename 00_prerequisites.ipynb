{
 "cells": [
  {
   "cell_type": "markdown",
   "id": "bfdcad8f-fb57-4c82-8be5-12cd425b5239",
   "metadata": {
    "editable": true,
    "slideshow": {
     "slide_type": ""
    },
    "tags": []
   },
   "source": [
    "# Setup / Voraussetzungen Projektgruppe Pandapower + Co-Simulation"
   ]
  },
  {
   "cell_type": "markdown",
   "id": "d2ccece0-a1bc-424b-bcac-fd40bd94f727",
   "metadata": {},
   "source": [
    "## Versionskontrolle mit Git\n",
    "\n",
    "Version Control Systems wie git werden in der Softwareentwicklung verwendet um Code abzuspeichern, zu versionieren und Kollaboration zu ermöglichen.\n",
    "Dabei werden einzelne granulare Änderungen mit einer Nachricht versehen und abgespeichert. Vorteile:\n",
    "\n",
    "* Automatisches Backup des eigenen Codes\n",
    "* Ältere Versionen können jederzeit wiederhergestellt werden\n",
    "* Rückverfolgbarkeit: Warum wurden Änderungen eingeführt, ab wann tritt ein neues Problem auf, wer hat diesen Teil des Codes entwickelt\n",
    "* Einfaches Code Sharing über Open Source Plattformen wie github.com\n",
    "* Kollaboration: Viele Entwickler können am selben Code arbeiten. Weiterführende Konzepte wie branches und merges helfen dabei Änderungen seperat zu halten und danach wieder zusammenzuführen."
   ]
  },
  {
   "cell_type": "markdown",
   "id": "48947479-8565-4173-98db-11c873a76c27",
   "metadata": {},
   "source": [
    "### Setup eigenes Git Repository\n",
    "\n",
    "* Installation von git: https://git-scm.com/downloads.\n",
    "\n",
    "* Lege einen Benutzer auf https://github.com/signup an.\n",
    "\n",
    "* Create Repository mit Name, Beschreibung, Standard Readme.md und optional privat.\n",
    "\n",
    "* Folge den Setup Steps in Github."
   ]
  },
  {
   "cell_type": "markdown",
   "id": "f7b24110-af86-41aa-8a84-d7850aa1e165",
   "metadata": {},
   "source": [
    "![](.\\img\\empty_github_repo.jpg)"
   ]
  },
  {
   "cell_type": "markdown",
   "id": "b4d66f71-048d-49e6-8050-0b931500ae2b",
   "metadata": {},
   "source": [
    "### Minimales Beispiel anhand des vorhandenen Repositories\n",
    "\n",
    "Die folgenden Befehle werden in der Command Line ausgeführt, öffne dazu zum Beispiel Git Bash (oder PowerShell).\n",
    "Das sollte man einmal gesehen haben, die meisten Programmieroberflächen bieten aber auch eine grafische Oberfläche um die Schritte auszuführen.\n",
    "Zum lokalen Testen der Kommandos genügt es git installiert zu haben, um Änderungen auch wieder auf github hochzuladen, benötigt man einen User (siehe Setup weiter unten).\n",
    "\n",
    "1. Download des Repositories von github.com:\n",
    "    ```bash\n",
    "    git clone https://github.com/skloibhofer/fh-pandapower-cosimulation.git\n",
    "    ```\n",
    "\n",
    "2. Durchführen von Änderungen an einem oder mehreren Files, danach nachvollziehen der Änderungen seit der letzten getrackten Version.\n",
    "    ```bash\n",
    "    # Open Readme.md, do some changes, save and close\n",
    "    git status\n",
    "    git diff Readme.md\n",
    "    ```\n",
    "\n",
    "3. Hinzufügen der Änderungen zum nächsten Commit, tracken des Commits mit kurzer Nachricht.\n",
    "   ```bash\n",
    "    git add Readme.md\n",
    "    git status\n",
    "    git commit -m \"Example Update of Readme.md\"\n",
    "    ```\n",
    "\n",
    "4. Nachvollziehen der letzten Änderungen. Jeder Commit besteht aus einer ID, einer Nachricht, dem Autor und der Zeit. Auch welche Pointer (branches, remotes) auf einen Commit zeigen ist aufgeführt. Mit der Commit ID können alte Versionen wiederhergestellt (`git checkout`) werden oder Änderungen und Files verglichen werden.\n",
    "    ```bash\n",
    "    git log\n",
    "    ```\n",
    "\n",
    "6. Synchronisieren mit dem Online Repository, erst neue Updates holen und dann lokale Änderungen raufladen.\n",
    "    ```bash\n",
    "    git pull\n",
    "    git push\n",
    "    ```\n"
   ]
  },
  {
   "cell_type": "markdown",
   "id": "5f90beb9-3214-4f8d-bf21-d0cfff923eb3",
   "metadata": {},
   "source": [
    "### Abschließende Bemerkungen\n",
    "\n",
    "Die einfachsten Befehle für den täglichen Gebrauch sollten damit bekannt sein, aber um das Potential von git wirklich auszunutzen, braucht es etwas mehr.\n",
    "Zum Beispiel wenn man dann zu einer alten Version zurückkehren will, oder bestimmte Änderungen ansehen will. Auch hier ist die IDE Integration oft die einfachste Variante, für die Command Line helfen die help commands (`git help` oder `git <command> help`), das Internet oder wir :).\n",
    "\n",
    "Eine kleine Warnung beim Verwenden von Notebooks: Da Notebooks kein reines Textformat sind, funktioniert die Zusammenführung von Änderungen hier relativ schlecht. Weniger Probleme gibt es, wenn man die Outputs vor dem Commit löscht, es empfiehlt sich aber generell, das nur eine Person Änderungen an einem Notebook macht. Wenn ihr zum Beispiel eigene Versuche in diesem Repository macht und in git tracken wollt, ist es besser diese als neues Notebook abzuspeichern, damit beim nächsten Pull keine inkompatiblen Änderungen auftreten. "
   ]
  },
  {
   "cell_type": "markdown",
   "id": "1851f37e-7042-46e4-8495-4676a9223e11",
   "metadata": {
    "tags": []
   },
   "source": [
    "## Python Installation und Packages\n",
    "\n",
    "Generell sollte jede aktuelle Python Installation funktionieren, in den Notebooks wird vermutlich die eine oder andere Funktionalität verwendet, die erst ab circa 3.10 inkludiert ist. Bei Neuinstallation empfehle ich miniconda, das unterschiedliche Python Versionen und Packages für unterschiedliche Projekte gut verwaltet. Hier eine Auflistung der Schritte zur Installation von miniconda: "
   ]
  },
  {
   "cell_type": "markdown",
   "id": "753969b8-000b-400a-8281-cf7adcf3ae58",
   "metadata": {},
   "source": [
    "* Download miniconda: https://docs.conda.io/projects/miniconda/en/latest/miniconda-install.html\n",
    "  \n",
    "* Starte Anaconda Prompt, um conda auch in anderen Terminals zu verwenden, rufe folgenden Befehl auf:\n",
    "  ```bash\n",
    "  conda init\n",
    "  ```\n",
    "\n",
    "* Im Terminal der Wahl, erzeuge eine neue Conda Umgebung mit dem Namen fh_intro:\n",
    "  ```bash\n",
    "  conda create -n fh_intro python>=3.11\n",
    "  ```\n",
    "  \n",
    "* Aktiviere die Umgebung (dieser Schritt muss immer ausgeführt werden, in der Entwicklungsumgebung kann man aber auch oft die Umgebung für ein Projekt festlegen)\n",
    "  ```bash\n",
    "  conda activate fh_intro\n",
    "  ```"
   ]
  },
  {
   "cell_type": "markdown",
   "id": "dd900192-05d5-4a75-9e7a-83be781d5185",
   "metadata": {},
   "source": [
    "Alle Packages die in diesem Repository verwendet werden, sind in *requirements.txt* aufgelistet, installiere sie mit\n",
    "\n",
    "  ```bash\n",
    "  pip install -r requirements.txt\n",
    "  ```"
   ]
  },
  {
   "cell_type": "markdown",
   "id": "868cae81-626c-4592-bcb9-7d1b275c683f",
   "metadata": {},
   "source": [
    "## Programmieroberfläche (IDE)\n",
    "\n",
    "Unterschiedliche Möglichkeiten:\n",
    "\n",
    "* VSCode: Sehr gute allgemeine Programmierumgebung, mit Erweiterungen für Python und auch sonst alles.\n",
    "* PyCharm: Speziell für Python eingerichtete, umfangreiche Umgebung.\n",
    "* Jupyter Notebook / JupyterLab: Einfache Variante direkt im Browser, vor allem für die Verwendung von Jupyter Notebooks geeignet. Jupyterlab hat aber auch schon einiges an Extras dabei bzw als Add-On verfügbar.\n",
    "\n",
    "Ich verwende für die Präsentation hier Jupyter Lab und werde hier auch kurz die Schritte zur Installation darlegen. Für größere Projekte verwende ich momentan VSCode."
   ]
  },
  {
   "cell_type": "markdown",
   "id": "ba4fdd6b-c225-4816-af2a-5976c57562af",
   "metadata": {},
   "source": [
    "### Jupyterlab Installation\n",
    "\n",
    "**Desktop Installation**\n",
    "\n",
    "Jupyterlab Desktop kann direkt als App/Programm installiert werden: https://github.com/jupyterlab/jupyterlab-desktop#installation.\n",
    "Dazu den Installer downloaden, ausführen und danach über das Startmenü JupyterLab öffnen.\n",
    "Rechts in der Taskleiste kann die Python / Conda Environment ausgewählt werden.\n",
    "\n",
    "**Start von der Command Line**\n",
    "\n",
    "Installation erfolgt direkt über den Package manager, die erforderlichen Packages für JupyterLab und die Git Integration sind schon im  _requirements.txt_. Nach der Installation kann Jupyterlab direkt gestartet werden.\n",
    "\n",
    "```bash\n",
    "conda activate fh_intro  # Activate environment\n",
    "# conda install -c conda-forge jupyterlab  # If not done yet\n",
    "\n",
    "jupyter lab  # Start\n",
    "```\n",
    "\n",
    "#### Browser ohne Tab bar\n",
    "\n",
    "Anpassung damit Jupyterlab in einem leeren Browser Fenster geöffnet wird ohne Top und Side Bars. Infos aus: https://stackoverflow.com/questions/51036132/running-jupyterlab-as-a-desktop-application-in-windows-10\n",
    "\n",
    "Configuration generieren mit Anaconda Prompt / Bash / PowerShell:\n",
    "\n",
    "```jupyter lab --generate-config```\n",
    "\n",
    "Neues File öffnen mit Text Editor. Am Ende eine Zeile Einfügen, Pfad zu Google Chromes .exe oder anderem Browser anpassen.\n",
    "\n",
    "```c.NotebookApp.browser = \"C:/Program Files (x86)/Google/Chrome/Application/chrome.exe --app=%s\"```"
   ]
  },
  {
   "cell_type": "code",
   "execution_count": null,
   "id": "aba56961-63bc-4c59-9a0d-b69c7e1c7558",
   "metadata": {},
   "outputs": [],
   "source": []
  }
 ],
 "metadata": {
  "kernelspec": {
   "display_name": "Python 3 (ipykernel)",
   "language": "python",
   "name": "python3"
  },
  "language_info": {
   "codemirror_mode": {
    "name": "ipython",
    "version": 3
   },
   "file_extension": ".py",
   "mimetype": "text/x-python",
   "name": "python",
   "nbconvert_exporter": "python",
   "pygments_lexer": "ipython3",
   "version": "3.12.0"
  }
 },
 "nbformat": 4,
 "nbformat_minor": 5
}
