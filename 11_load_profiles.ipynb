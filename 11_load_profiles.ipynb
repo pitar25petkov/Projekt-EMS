{
 "cells": [
  {
   "cell_type": "markdown",
   "id": "5b30834b-8068-477d-8a45-8c31d4321981",
   "metadata": {},
   "source": [
    "# Load Profiles\n",
    "\n",
    "Get standard load profiles from https://www.bdew.de/energie/standardlastprofile-strom/.\n",
    "Download .zip folder, we use only the Repräsentative Profile VDEW here, renamed to\n",
    "representative_profiles_vdew.xls.\n",
    "\n",
    "May query personal load profile from WN with library ..."
   ]
  },
  {
   "cell_type": "code",
   "execution_count": null,
   "id": "9e708d56-bbe9-428f-9c53-c021aea4921a",
   "metadata": {},
   "outputs": [],
   "source": [
    "from pathlib import Path\n",
    "import datetime\n",
    "\n",
    "import holidays\n",
    "import numpy as np\n",
    "import pandas as pd"
   ]
  },
  {
   "cell_type": "code",
   "execution_count": null,
   "id": "cb5f0f0f-fbc0-44a2-a0b6-97dc2303075c",
   "metadata": {},
   "outputs": [],
   "source": [
    "lastprofile_file = Path('.') / 'external' / 'Lastprofile' / 'representative_profiles_vdew.xls'\n",
    "assert lastprofile_file.is_file(), f'Did not find file with representative load profiles at {lastprofile_file}'"
   ]
  },
  {
   "cell_type": "code",
   "execution_count": null,
   "id": "a635c893-bed9-45f2-bb6b-80c534b89f08",
   "metadata": {},
   "outputs": [],
   "source": [
    "def get_profile_from_file(fp: Path, profile: str = 'H0') -> pd.DataFrame:\n",
    "    \"\"\"From the VDEW profiles xls file, get one sheet.\n",
    "\n",
    "    Args:\n",
    "        fp (Path): Path to .xls file.\n",
    "        profile (str): Profile name corresponding to the sheet name in the file.\n",
    "            Defaults to H0.\n",
    "\n",
    "    Returns:\n",
    "        pd.DataFrame: DataFrame with column Multiindex Season\n",
    "            (Winter, Sommer, Übergangszeit) and Daytype (Samstag, Sonntag, Werktag),\n",
    "            and Index Time from 0:15 to 24:00 in 15 minute intervals.\n",
    "    \"\"\"\n",
    "    df = pd.read_excel(fp, sheet_name=profile, header=[1,2], index_col=0, nrows=24*4)\n",
    "\n",
    "    return df"
   ]
  },
  {
   "cell_type": "code",
   "execution_count": null,
   "id": "ec4bfbaa-28da-4086-8808-9999593731c9",
   "metadata": {},
   "outputs": [],
   "source": [
    "i = pd.Index(['00:15', '00:30'])\n",
    "i = i.map(lambda x: time.fromisoformat(x))"
   ]
  },
  {
   "cell_type": "code",
   "execution_count": null,
   "id": "1c01c872-c334-42e0-9675-a6c21f942df7",
   "metadata": {},
   "outputs": [],
   "source": [
    "h0_profiles = get_profile_from_file(lastprofile_file, 'H0')"
   ]
  },
  {
   "cell_type": "code",
   "execution_count": null,
   "id": "c7bf82b3-48e6-478b-8a3c-01072fb4bed2",
   "metadata": {},
   "outputs": [],
   "source": [
    "# Constants\n",
    "AT_HOLIDAYS = holidays.AUT()\n",
    "\n",
    "# Dynamization function coefficients\n",
    "A4=-3.92e-10\n",
    "A3=0.00000032\n",
    "A2=-0.0000702\n",
    "A1=0.0021\n",
    "A0=1.24"
   ]
  },
  {
   "cell_type": "code",
   "execution_count": null,
   "id": "47beeccd-c5fc-4149-a748-fa4e7e4c43d7",
   "metadata": {},
   "outputs": [],
   "source": [
    "def dynamize_day(ser: pd.Series, dayofyear: int) -> pd.Series:\n",
    "    \"\"\"Dynamize profile 15 minute series by dayofyear.\"\"\"\n",
    "    dynamization_value = (\n",
    "        np.power(dayofyear, 4) * A4\n",
    "        + np.power(dayofyear, 3) * A3\n",
    "        + np.power(dayofyear, 2) * A2\n",
    "        + dayofyear * A1\n",
    "        + A0\n",
    "    )\n",
    "    return ser * dynamization_value"
   ]
  },
  {
   "cell_type": "code",
   "execution_count": null,
   "id": "e5029e50-c2d6-422d-9c7b-e294bf02b68f",
   "metadata": {},
   "outputs": [],
   "source": [
    "def load_profile_for_day(day: datetime.date, profile_df: pd.DataFrame, dynamize: bool=False) -> pd.Series:\n",
    "    \"\"\"Get the 15 minute load profile for a single day.\n",
    "\n",
    "    Args:\n",
    "        day (datetime.date): Date for which to get the load profile.\n",
    "        profile_df (pd.DataFrame): In the format as given by get_profile_from_file.\n",
    "        dynamize (bool): Should dynamization by the 4th-grade polynomial dynamization\n",
    "            function for day of year be applied. This should be only done for H0. Defaults to False.\n",
    "\n",
    "    Returns:\n",
    "        pd.Series: Series with Watt values every 15 minutes, and a pd.DatetimeIndex.\n",
    "    \"\"\"\n",
    "    if (day <= datetime.date(day.year, 3, 20)) or (day >= datetime.date(day.year, 11, 1)):\n",
    "        season = 'Winter'\n",
    "    elif (day >= datetime.date(day.year, 5, 15)) and (day <= datetime.date(day.year, 9, 14)):\n",
    "        season =  'Sommer'\n",
    "    else:\n",
    "        season = \"Übergangszeit\"\n",
    "        \n",
    "    if (day in AT_HOLIDAYS) or (day.isoweekday == 7):\n",
    "        weekday = 'Sonntag'\n",
    "    elif (day.isoweekday == 6) or (day in [datetime.date(day.year, 12, 24), datetime.date(day.year, 12, 31)]):\n",
    "        weekday = 'Samstag'\n",
    "    else:\n",
    "        weekday = 'Werktag'\n",
    "\n",
    "    df = profile_df[season][weekday]\n",
    "    df.index = df.index.map(lambda time: datetime.datetime.combine(day, time))\n",
    "\n",
    "    if dynamize:\n",
    "        df = dynamize_day(df, df.index.dayofyear[0])\n",
    "\n",
    "    return df"
   ]
  },
  {
   "cell_type": "code",
   "execution_count": null,
   "id": "9a56bece-0791-4ac4-a752-3e981c1a87bb",
   "metadata": {},
   "outputs": [],
   "source": [
    "datetime.date(2020, 1, 4).day"
   ]
  },
  {
   "cell_type": "code",
   "execution_count": null,
   "id": "70e83b4b-e830-44d8-bcc5-3ea34f898b6a",
   "metadata": {},
   "outputs": [],
   "source": [
    "df = load_profile_for_day(datetime.date(2020, 5, 30), h0_profiles, True)\n",
    "\n",
    "dayofyear = df.index.dayofyear[0]"
   ]
  },
  {
   "cell_type": "code",
   "execution_count": null,
   "id": "d1244fa4-f272-40e5-9b12-06a9fa82622e",
   "metadata": {},
   "outputs": [],
   "source": []
  },
  {
   "cell_type": "code",
   "execution_count": null,
   "id": "91882c8f-40ef-4a3c-89f8-ff4e91af6685",
   "metadata": {},
   "outputs": [],
   "source": [
    "# Make function to get load profile for date from to"
   ]
  }
 ],
 "metadata": {
  "kernelspec": {
   "display_name": "Python 3 (ipykernel)",
   "language": "python",
   "name": "python3"
  },
  "language_info": {
   "codemirror_mode": {
    "name": "ipython",
    "version": 3
   },
   "file_extension": ".py",
   "mimetype": "text/x-python",
   "name": "python",
   "nbconvert_exporter": "python",
   "pygments_lexer": "ipython3",
   "version": "3.12.0"
  }
 },
 "nbformat": 4,
 "nbformat_minor": 5
}
