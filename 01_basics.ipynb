{
 "cells": [
  {
   "cell_type": "markdown",
   "id": "793eb1ec-16df-4d30-b62f-f94293dc763e",
   "metadata": {},
   "source": [
    "## Timeseries\n",
    "\n",
    "Wir arbeiten mit Zeitserien, Diskretisierung in Intervalle, zB 15 Minuten Werte.\n",
    "\n",
    "Python Tool: pandas DataFrame mit DateTimeIndex. "
   ]
  },
  {
   "cell_type": "code",
   "execution_count": 3,
   "id": "72713f4c-f4d3-4340-9118-182da2eb5922",
   "metadata": {},
   "outputs": [
    {
     "data": {
      "text/plain": [
       "DatetimeIndex(['2020-01-01 00:00:00+00:00', '2020-01-01 00:15:00+00:00',\n",
       "               '2020-01-01 00:30:00+00:00', '2020-01-01 00:45:00+00:00',\n",
       "               '2020-01-01 01:00:00+00:00', '2020-01-01 01:15:00+00:00',\n",
       "               '2020-01-01 01:30:00+00:00', '2020-01-01 01:45:00+00:00',\n",
       "               '2020-01-01 02:00:00+00:00', '2020-01-01 02:15:00+00:00',\n",
       "               ...\n",
       "               '2020-12-31 21:45:00+00:00', '2020-12-31 22:00:00+00:00',\n",
       "               '2020-12-31 22:15:00+00:00', '2020-12-31 22:30:00+00:00',\n",
       "               '2020-12-31 22:45:00+00:00', '2020-12-31 23:00:00+00:00',\n",
       "               '2020-12-31 23:15:00+00:00', '2020-12-31 23:30:00+00:00',\n",
       "               '2020-12-31 23:45:00+00:00', '2021-01-01 00:00:00+00:00'],\n",
       "              dtype='datetime64[ns, UTC]', length=35137, freq='15T')"
      ]
     },
     "execution_count": 3,
     "metadata": {},
     "output_type": "execute_result"
    }
   ],
   "source": [
    "import pandas as pd\n",
    "\n",
    "dti = pd.date_range('2020-01-01 00:00:00', '2021-01-01 00:00:00', tz='utc', freq='15min')\n",
    "dti"
   ]
  },
  {
   "cell_type": "code",
   "execution_count": 4,
   "id": "971d1a8b-5697-4613-9ca0-018a577f344a",
   "metadata": {},
   "outputs": [],
   "source": [
    "# df, pvlib, whatever Daten"
   ]
  },
  {
   "cell_type": "code",
   "execution_count": 5,
   "id": "323387fb-bb1a-4f8e-af11-9a613b46b17d",
   "metadata": {},
   "outputs": [],
   "source": [
    "# Timezones, resampling, missing values"
   ]
  },
  {
   "cell_type": "code",
   "execution_count": null,
   "id": "3e04f383-7fac-4349-a8d1-f9af75d99421",
   "metadata": {},
   "outputs": [],
   "source": []
  }
 ],
 "metadata": {
  "kernelspec": {
   "display_name": "Python 3 (ipykernel)",
   "language": "python",
   "name": "python3"
  },
  "language_info": {
   "codemirror_mode": {
    "name": "ipython",
    "version": 3
   },
   "file_extension": ".py",
   "mimetype": "text/x-python",
   "name": "python",
   "nbconvert_exporter": "python",
   "pygments_lexer": "ipython3",
   "version": "3.12.0"
  }
 },
 "nbformat": 4,
 "nbformat_minor": 5
}
