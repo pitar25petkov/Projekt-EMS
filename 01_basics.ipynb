{
 "cells": [
  {
   "cell_type": "markdown",
   "id": "f72acc85-2cb0-43df-a0f6-9e8023668a77",
   "metadata": {},
   "source": [
    "# Software Development und Python Basics\n",
    "\n",
    "In diesem Notebook sammle ich ein paar Basics zum Entwickeln eines Projektes in Python.\n",
    "Da ihr schon Kurse mit Python hattet, sollte das meiste nicht neu sein, eher sollen wichtige Parts wiederholt werden.\n",
    "Wenn für euch noch wichtige Themen fehlen, kann ich diese hier noch hinzufügen. "
   ]
  },
  {
   "cell_type": "code",
   "execution_count": 1,
   "id": "9f730814-69b9-4f35-b683-965fed2dc237",
   "metadata": {},
   "outputs": [],
   "source": [
    "import datetime\n",
    "from pathlib import Path\n",
    "\n",
    "import pandas as pd"
   ]
  },
  {
   "cell_type": "markdown",
   "id": "eeca277c-46b4-4e48-a143-9655f1715c1e",
   "metadata": {},
   "source": [
    "## Organisierung eines Python Projekts\n",
    "\n",
    "Eine kurze Übersicht, wie man seinen Code organisieren kann, von ersten Schritten und einfachen Programmen zu Komponenten die gut wiederverwendet werden können."
   ]
  },
  {
   "cell_type": "markdown",
   "id": "529c8af1-cdc8-4c90-8835-de539b34959c",
   "metadata": {},
   "source": [
    "### Notebook\n",
    "\n",
    "Als erste Methode, um schnell Sachen auszuprobieren und Ergebnisse sofort anzuzeigen, eignen sich Notebooks sehr gut.\n",
    "Wenn immer wieder aufgeräumt wird und auch die anderen Features wie Markdown Überschriften und Text verwendet werden,\n",
    "eignen sich diese auch sehr gut zum Anschaulich machen der einzelnen Schritte und um neues zu testen.\n",
    "Da man aber oft an unterschiedlichen Stellen weiterarbeitet oder etwas neues probiert, können diese auch recht\n",
    "schnell sehr unübersichtlich werden."
   ]
  },
  {
   "cell_type": "markdown",
   "id": "33d7bfac-80c0-4a50-9c2b-4c2430201006",
   "metadata": {},
   "source": [
    "### Skript\n",
    "\n",
    "Wenn der Code, wie im Notebook definiert, in ein Python File kopiert wird, so dass dieser von oben nach unten\n",
    "ausgeführt wird, hat man ein Skript. In den meisten Fällen werdet ihr die Hauptschritte eures Projektes\n",
    "in einem Skript ausführen. Idealerweise werden die wichtigen Komponenten hier aber nur aufgerufen, \n",
    "und befinden sich schön gegliedert in anderen Files."
   ]
  },
  {
   "cell_type": "markdown",
   "id": "88fb2c4a-61fa-449a-9498-b174f45f8c4f",
   "metadata": {},
   "source": [
    "### Funktionen\n",
    "\n",
    "Sobald die gewünschte Herangehensweise im Notebook ausgetestet wurde, macht es Sinn diese in \n",
    "einzelne Funktionen aufzuteilen. Diese haben jeweils eine klar beschrieben Aufgabe, definierte \n",
    "Input und Output Parameter und können somit auch wiederverwendet werden. \n",
    "\n",
    "Meine Empfehlung ist es, sich bevor man den Code in die Funktion gibt, zu überlegen welche Ein- und\n",
    "Ausgangsparameter man erwartet. Am besten geht das, in dem man zuerst die Signatur der Funktion\n",
    "inklusive Docstring schreibt, und dann die Funktionalität aus dem Notebook überträgt, oft mit\n",
    "einigen Verallgemeinerungen."
   ]
  },
  {
   "cell_type": "code",
   "execution_count": 14,
   "id": "dabf0945-f92c-47a2-a72c-af8f341ff31c",
   "metadata": {},
   "outputs": [],
   "source": [
    "# Example of a Function stub, to define functionality, in and output parameters before the implementation\n",
    "def load_profile_for_day(  # Descriptive Name\n",
    "    day: datetime.date,\n",
    "    profile_df: pd.DataFrame,\n",
    "    dynamize: bool = False,  # Parameters, with type hints to make explicit what we expect\n",
    ") -> pd.Series:  # Return type\n",
    "    # Docstring with one title line, optionally some more description, and a description of Arguments and what is returned\n",
    "    \"\"\"Get the 15 minute load profile for a single day.\n",
    "\n",
    "    Args:\n",
    "        day (datetime.date): Date for which to get the load profile.\n",
    "        profile_df (pd.DataFrame): In the format as given by get_profile_from_file.\n",
    "        dynamize (bool): Should dynamization by the 4th-grade polynomial dynamization\n",
    "            function for day of year be applied. This should be only done for H0. Defaults to False.\n",
    "\n",
    "    Returns:\n",
    "        pd.Series: Series with Watt values every 15 minutes, and a pd.DatetimeIndex.\n",
    "    \"\"\"\n",
    "    pass  # Implementation follows in second step."
   ]
  },
  {
   "cell_type": "markdown",
   "id": "6edd25a6-8796-4769-8a90-6987ba517295",
   "metadata": {},
   "source": [
    "Diese Herangehensweise habe ich für die Standardlastprofile gewählt. Im Notebook *11_load_profiles.ipynb*\n",
    "habe ich die einzelnen Schritte ausprobiert, dann habe ich eine Funktion erstellt und diese \n",
    "schlussendlich in ein eigenes File *src/load_profiles.py* kopiert. Von dort können sie nun importiert werden."
   ]
  },
  {
   "cell_type": "code",
   "execution_count": 10,
   "id": "8723bb17-826b-4365-be9a-6ad3a877bff4",
   "metadata": {},
   "outputs": [],
   "source": [
    "from src.load_profiles import get_load_profile"
   ]
  },
  {
   "cell_type": "code",
   "execution_count": 11,
   "id": "39bfefb3-3a94-451c-a736-b68ae348bdbe",
   "metadata": {},
   "outputs": [],
   "source": [
    "lastprofile_file = (\n",
    "    Path(\".\") / \"external\" / \"Lastprofile\" / \"representative_profiles_vdew.xls\"\n",
    ")\n",
    "assert (\n",
    "    lastprofile_file.is_file()\n",
    "), f\"Did not find file with representative load profiles at {lastprofile_file}\""
   ]
  },
  {
   "cell_type": "code",
   "execution_count": 12,
   "id": "fbd0bc56-60df-45ec-beea-72d41941bcef",
   "metadata": {},
   "outputs": [],
   "source": [
    "h0profile = get_load_profile(\n",
    "    lastprofile_file,\n",
    "    from_=datetime.date(2015, 1, 1),\n",
    "    to=datetime.date(2015, 12, 31),\n",
    "    type=\"H0\",\n",
    ")"
   ]
  },
  {
   "cell_type": "code",
   "execution_count": 13,
   "id": "a34d2ceb-c787-440f-8526-e3fc83565956",
   "metadata": {},
   "outputs": [
    {
     "data": {
      "text/plain": [
       "2015-01-01 00:15:00    108.677635\n",
       "2015-01-01 00:30:00    100.728643\n",
       "2015-01-01 00:45:00     93.152259\n",
       "2015-01-01 01:00:00     85.824281\n",
       "2015-01-01 01:15:00     78.744710\n",
       "dtype: float64"
      ]
     },
     "execution_count": 13,
     "metadata": {},
     "output_type": "execute_result"
    }
   ],
   "source": [
    "h0profile.head()"
   ]
  },
  {
   "cell_type": "markdown",
   "id": "b5f1bd70-7ca0-4250-acb8-66c43eb68fa8",
   "metadata": {},
   "source": [
    "### Classes\n",
    "\n",
    "Objekt-orientiertes Programmieren baut sehr stark auf Klassen auf. Vor allem nützlich wenn Objekte\n",
    "erstellt werden sollen, die auch ihren eigenen Zustand speichern sollen."
   ]
  },
  {
   "cell_type": "markdown",
   "id": "793eb1ec-16df-4d30-b62f-f94293dc763e",
   "metadata": {
    "editable": true,
    "slideshow": {
     "slide_type": ""
    },
    "tags": []
   },
   "source": [
    "## Timeseries\n",
    "\n",
    "Wir arbeiten mit Zeitserien, Diskretisierung in Intervalle, zB 15 Minuten Werte.\n",
    "\n",
    "Python Tool: pandas DataFrame mit DateTimeIndex. "
   ]
  },
  {
   "cell_type": "markdown",
   "id": "91bf53ec-4e3d-4c39-9e08-cbfc675655e1",
   "metadata": {},
   "source": [
    "### Grafische Libraries zum Arbeiten mit Pandas\n",
    "\n",
    "* bamboolib\n",
    "* pandasgui\n",
    "* mito"
   ]
  },
  {
   "cell_type": "code",
   "execution_count": 1,
   "id": "72713f4c-f4d3-4340-9118-182da2eb5922",
   "metadata": {},
   "outputs": [
    {
     "data": {
      "text/plain": [
       "DatetimeIndex(['2020-01-01 00:00:00+00:00', '2020-01-01 00:15:00+00:00',\n",
       "               '2020-01-01 00:30:00+00:00', '2020-01-01 00:45:00+00:00',\n",
       "               '2020-01-01 01:00:00+00:00', '2020-01-01 01:15:00+00:00',\n",
       "               '2020-01-01 01:30:00+00:00', '2020-01-01 01:45:00+00:00',\n",
       "               '2020-01-01 02:00:00+00:00', '2020-01-01 02:15:00+00:00',\n",
       "               ...\n",
       "               '2020-12-31 21:45:00+00:00', '2020-12-31 22:00:00+00:00',\n",
       "               '2020-12-31 22:15:00+00:00', '2020-12-31 22:30:00+00:00',\n",
       "               '2020-12-31 22:45:00+00:00', '2020-12-31 23:00:00+00:00',\n",
       "               '2020-12-31 23:15:00+00:00', '2020-12-31 23:30:00+00:00',\n",
       "               '2020-12-31 23:45:00+00:00', '2021-01-01 00:00:00+00:00'],\n",
       "              dtype='datetime64[ns, UTC]', length=35137, freq='15T')"
      ]
     },
     "execution_count": 1,
     "metadata": {},
     "output_type": "execute_result"
    }
   ],
   "source": [
    "dti = pd.date_range(\n",
    "    \"2020-01-01 00:00:00\", \"2021-01-01 00:00:00\", tz=\"utc\", freq=\"15min\"\n",
    ")\n",
    "dti"
   ]
  },
  {
   "cell_type": "code",
   "execution_count": 2,
   "id": "971d1a8b-5697-4613-9ca0-018a577f344a",
   "metadata": {},
   "outputs": [],
   "source": [
    "# df, pvlib, whatever Daten"
   ]
  },
  {
   "cell_type": "code",
   "execution_count": 3,
   "id": "323387fb-bb1a-4f8e-af11-9a613b46b17d",
   "metadata": {},
   "outputs": [],
   "source": [
    "# Timezones, resampling, missing values"
   ]
  },
  {
   "cell_type": "markdown",
   "id": "5a26ce35-4303-4712-89bd-4020582fdc5e",
   "metadata": {},
   "source": [
    "## Visualisierung"
   ]
  },
  {
   "cell_type": "markdown",
   "id": "bf5a3be6-3ed6-4c57-80fa-939d867d51a5",
   "metadata": {},
   "source": [
    "Möglichkeiten:\n",
    "\n",
    "* matplotlib\n",
    "* seaborn\n",
    "* plotly"
   ]
  },
  {
   "cell_type": "markdown",
   "id": "0b98afdf-f46f-4099-b6f9-f5348084b3b2",
   "metadata": {},
   "source": [
    "## Daten\n",
    "\n",
    "* [APCS](https://www.apcs.at/de/clearing/technisches-clearing/lastprofile)\n",
    "* [OPSD](https://open-power-system-data.org/)\n",
    "* https://solar.htw-berlin.de/elektrische-lastprofile-fuer-wohngebaeude/\n",
    "* https://www.renewables.ninja/\n",
    "* https://joint-research-centre.ec.europa.eu/photovoltaic-geographical-information-system-pvgis_en\n",
    "* https://simbench.de/de/datensaetze/"
   ]
  },
  {
   "cell_type": "markdown",
   "id": "eea9bcba-9cba-472f-a761-2776bc578abb",
   "metadata": {},
   "source": [
    "## Libraries"
   ]
  },
  {
   "cell_type": "markdown",
   "id": "136ad3b0-6402-4147-b7f2-40affcdbcb40",
   "metadata": {},
   "source": [
    "### Anbindung Wiener Netze Smart Meter Daten\n",
    "\n",
    "Wiener Netze Smart Meter Portal https://smartmeter-web.wienernetze.at/#/welcome.\n",
    "\n",
    "Git Repository fuer Abruf ueber API: https://github.com/platysma/vienna-smartmeter"
   ]
  },
  {
   "cell_type": "markdown",
   "id": "f02accc8-91f4-45d8-ae92-1b088d837653",
   "metadata": {},
   "source": [
    "## Best Practices\n",
    "\n",
    "* Docstrings\n",
    "* Type Hints\n",
    "* Start with Notebook, move important pieces to .py file\n",
    "* black autoformatter\n",
    "* Exception Handling\n",
    "* autoreload"
   ]
  },
  {
   "cell_type": "code",
   "execution_count": null,
   "id": "ce239a9e-5258-46a9-9696-78a41bb59ea9",
   "metadata": {},
   "outputs": [],
   "source": []
  }
 ],
 "metadata": {
  "kernelspec": {
   "display_name": "Python 3 (ipykernel)",
   "language": "python",
   "name": "python3"
  },
  "language_info": {
   "codemirror_mode": {
    "name": "ipython",
    "version": 3
   },
   "file_extension": ".py",
   "mimetype": "text/x-python",
   "name": "python",
   "nbconvert_exporter": "python",
   "pygments_lexer": "ipython3",
   "version": "3.12.0"
  }
 },
 "nbformat": 4,
 "nbformat_minor": 5
}
