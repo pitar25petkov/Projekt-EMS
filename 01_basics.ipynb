{
 "cells": [
  {
   "cell_type": "markdown",
   "id": "793eb1ec-16df-4d30-b62f-f94293dc763e",
   "metadata": {
    "editable": true,
    "slideshow": {
     "slide_type": ""
    },
    "tags": []
   },
   "source": [
    "## Timeseries\n",
    "\n",
    "Wir arbeiten mit Zeitserien, Diskretisierung in Intervalle, zB 15 Minuten Werte.\n",
    "\n",
    "Python Tool: pandas DataFrame mit DateTimeIndex. "
   ]
  },
  {
   "cell_type": "code",
   "execution_count": 1,
   "id": "72713f4c-f4d3-4340-9118-182da2eb5922",
   "metadata": {},
   "outputs": [
    {
     "data": {
      "text/plain": [
       "DatetimeIndex(['2020-01-01 00:00:00+00:00', '2020-01-01 00:15:00+00:00',\n",
       "               '2020-01-01 00:30:00+00:00', '2020-01-01 00:45:00+00:00',\n",
       "               '2020-01-01 01:00:00+00:00', '2020-01-01 01:15:00+00:00',\n",
       "               '2020-01-01 01:30:00+00:00', '2020-01-01 01:45:00+00:00',\n",
       "               '2020-01-01 02:00:00+00:00', '2020-01-01 02:15:00+00:00',\n",
       "               ...\n",
       "               '2020-12-31 21:45:00+00:00', '2020-12-31 22:00:00+00:00',\n",
       "               '2020-12-31 22:15:00+00:00', '2020-12-31 22:30:00+00:00',\n",
       "               '2020-12-31 22:45:00+00:00', '2020-12-31 23:00:00+00:00',\n",
       "               '2020-12-31 23:15:00+00:00', '2020-12-31 23:30:00+00:00',\n",
       "               '2020-12-31 23:45:00+00:00', '2021-01-01 00:00:00+00:00'],\n",
       "              dtype='datetime64[ns, UTC]', length=35137, freq='15T')"
      ]
     },
     "execution_count": 1,
     "metadata": {},
     "output_type": "execute_result"
    }
   ],
   "source": [
    "import pandas as pd\n",
    "\n",
    "dti = pd.date_range('2020-01-01 00:00:00', '2021-01-01 00:00:00', tz='utc', freq='15min')\n",
    "dti"
   ]
  },
  {
   "cell_type": "code",
   "execution_count": 2,
   "id": "971d1a8b-5697-4613-9ca0-018a577f344a",
   "metadata": {},
   "outputs": [],
   "source": [
    "# df, pvlib, whatever Daten"
   ]
  },
  {
   "cell_type": "code",
   "execution_count": 3,
   "id": "323387fb-bb1a-4f8e-af11-9a613b46b17d",
   "metadata": {},
   "outputs": [],
   "source": [
    "# Timezones, resampling, missing values"
   ]
  },
  {
   "cell_type": "markdown",
   "id": "f02accc8-91f4-45d8-ae92-1b088d837653",
   "metadata": {},
   "source": [
    "## Best Practices\n",
    "\n",
    "* Docstrings\n",
    "* Type Hints\n",
    "* Start with Notebook, move important pieces to .py file\n",
    "* black autoformatter\n",
    "* Exception Handling"
   ]
  },
  {
   "cell_type": "code",
   "execution_count": 10,
   "id": "4dee98a7-75c2-4526-8bea-93d8a7ea814f",
   "metadata": {
    "editable": true,
    "slideshow": {
     "slide_type": ""
    },
    "tags": []
   },
   "outputs": [],
   "source": [
    "import datetime\n",
    "from pathlib import Path\n",
    "\n",
    "from src.load_profiles import get_load_profile"
   ]
  },
  {
   "cell_type": "code",
   "execution_count": 11,
   "id": "942a7521-91f7-4315-bdeb-23f5f5bdf667",
   "metadata": {},
   "outputs": [],
   "source": [
    "lastprofile_file = Path('.') / 'external' / 'Lastprofile' / 'representative_profiles_vdew.xls'\n",
    "assert lastprofile_file.is_file(), f'Did not find file with representative load profiles at {lastprofile_file}'"
   ]
  },
  {
   "cell_type": "code",
   "execution_count": 12,
   "id": "d349a174-ca92-44c4-a82f-7088b7c90b52",
   "metadata": {},
   "outputs": [],
   "source": [
    "h0profile = get_load_profile(\n",
    "    lastprofile_file, from_=datetime.date(2015, 1, 1), to=datetime.date(2015, 12, 31), type='H0'\n",
    ")"
   ]
  },
  {
   "cell_type": "code",
   "execution_count": 13,
   "id": "e2290dff-2a45-4e92-a790-7f1ee8a67be1",
   "metadata": {},
   "outputs": [
    {
     "data": {
      "text/plain": [
       "2015-01-01 00:15:00    108.677635\n",
       "2015-01-01 00:30:00    100.728643\n",
       "2015-01-01 00:45:00     93.152259\n",
       "2015-01-01 01:00:00     85.824281\n",
       "2015-01-01 01:15:00     78.744710\n",
       "dtype: float64"
      ]
     },
     "execution_count": 13,
     "metadata": {},
     "output_type": "execute_result"
    }
   ],
   "source": [
    "h0profile.head()"
   ]
  },
  {
   "cell_type": "code",
   "execution_count": null,
   "id": "ffb3cddc-6289-41e0-ae37-f341bb1ea9e9",
   "metadata": {},
   "outputs": [],
   "source": []
  },
  {
   "cell_type": "markdown",
   "id": "136ad3b0-6402-4147-b7f2-40affcdbcb40",
   "metadata": {},
   "source": [
    "### Anbindung Wiener Netze Smart Meter Daten\n",
    "\n",
    "Wiener Netze Smart Meter Portal https://smartmeter-web.wienernetze.at/#/welcome.\n",
    "\n",
    "Git Repository fuer Abruf ueber API: https://github.com/platysma/vienna-smartmeter"
   ]
  },
  {
   "cell_type": "code",
   "execution_count": null,
   "id": "ce239a9e-5258-46a9-9696-78a41bb59ea9",
   "metadata": {},
   "outputs": [],
   "source": []
  }
 ],
 "metadata": {
  "kernelspec": {
   "display_name": "Python 3 (ipykernel)",
   "language": "python",
   "name": "python3"
  },
  "language_info": {
   "codemirror_mode": {
    "name": "ipython",
    "version": 3
   },
   "file_extension": ".py",
   "mimetype": "text/x-python",
   "name": "python",
   "nbconvert_exporter": "python",
   "pygments_lexer": "ipython3",
   "version": "3.12.0"
  }
 },
 "nbformat": 4,
 "nbformat_minor": 5
}
