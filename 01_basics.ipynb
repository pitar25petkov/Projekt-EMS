{
 "cells": [
  {
   "cell_type": "markdown",
   "id": "793eb1ec-16df-4d30-b62f-f94293dc763e",
   "metadata": {
    "editable": true,
    "slideshow": {
     "slide_type": ""
    },
    "tags": []
   },
   "source": [
    "## Timeseries\n",
    "\n",
    "Wir arbeiten mit Zeitserien, Diskretisierung in Intervalle, zB 15 Minuten Werte.\n",
    "\n",
    "Python Tool: pandas DataFrame mit DateTimeIndex. "
   ]
  },
  {
   "cell_type": "code",
   "execution_count": null,
   "id": "72713f4c-f4d3-4340-9118-182da2eb5922",
   "metadata": {},
   "outputs": [],
   "source": [
    "import pandas as pd\n",
    "\n",
    "dti = pd.date_range('2020-01-01 00:00:00', '2021-01-01 00:00:00', tz='utc', freq='15min')\n",
    "dti"
   ]
  },
  {
   "cell_type": "code",
   "execution_count": null,
   "id": "971d1a8b-5697-4613-9ca0-018a577f344a",
   "metadata": {},
   "outputs": [],
   "source": [
    "# df, pvlib, whatever Daten"
   ]
  },
  {
   "cell_type": "code",
   "execution_count": null,
   "id": "323387fb-bb1a-4f8e-af11-9a613b46b17d",
   "metadata": {},
   "outputs": [],
   "source": [
    "# Timezones, resampling, missing values"
   ]
  },
  {
   "cell_type": "markdown",
   "id": "f02accc8-91f4-45d8-ae92-1b088d837653",
   "metadata": {},
   "source": [
    "## Best Practices\n",
    "\n",
    "* Docstrings\n",
    "* Type Hints\n",
    "* Start with Notebook, move important pieces to .py file\n",
    "* black autoformatter"
   ]
  },
  {
   "cell_type": "code",
   "execution_count": null,
   "id": "4dee98a7-75c2-4526-8bea-93d8a7ea814f",
   "metadata": {
    "editable": true,
    "slideshow": {
     "slide_type": ""
    },
    "tags": []
   },
   "outputs": [],
   "source": []
  }
 ],
 "metadata": {
  "kernelspec": {
   "display_name": "Python 3 (ipykernel)",
   "language": "python",
   "name": "python3"
  },
  "language_info": {
   "codemirror_mode": {
    "name": "ipython",
    "version": 3
   },
   "file_extension": ".py",
   "mimetype": "text/x-python",
   "name": "python",
   "nbconvert_exporter": "python",
   "pygments_lexer": "ipython3",
   "version": "3.12.0"
  }
 },
 "nbformat": 4,
 "nbformat_minor": 5
}
