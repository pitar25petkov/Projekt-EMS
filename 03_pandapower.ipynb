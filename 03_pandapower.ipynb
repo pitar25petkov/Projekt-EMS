{
 "cells": [
  {
   "cell_type": "code",
   "execution_count": null,
   "id": "d7249046-28b8-4548-91cf-53ca7b2a4368",
   "metadata": {},
   "outputs": [],
   "source": [
    "# Start from simple example network and 2022 code of David"
   ]
  },
  {
   "cell_type": "code",
   "execution_count": null,
   "id": "c9d8c6ec-70a6-438f-a01b-92af71d83a85",
   "metadata": {},
   "outputs": [],
   "source": [
    "import matplotlib.pyplot as plt\n",
    "import pandapower as pp\n",
    "import pandas as pd\n",
    "import simbench as sb"
   ]
  },
  {
   "cell_type": "markdown",
   "id": "7f527d37-7aab-4839-8de8-35455fc4c6a3",
   "metadata": {},
   "source": [
    "## Pandapower Basics\n",
    "\n",
    "Dokumentation: https://pandapower.readthedocs.io/en/latest/about.html.\n",
    "\n",
    "Konvention fuer Namen von Einheiten: \\<parameter\\>\\_\\<unit\\> oder \\<parameter\\>\\_\\<phase\\>\\_\\<unit\\>. Beispiel: vn_kv -> $v_n[kV]$. Naehere Infos in Function Docstring oder in der Dokumentation.\n",
    "\n",
    "Wir bauen ein minimales Netz aus einzelnen Komponenten auf."
   ]
  },
  {
   "cell_type": "code",
   "execution_count": 77,
   "id": "0cf061cd-1f38-4b40-9d8c-10e7730f6b23",
   "metadata": {},
   "outputs": [],
   "source": [
    "#create empty net\n",
    "my_net = pp.create_empty_network()"
   ]
  },
  {
   "cell_type": "code",
   "execution_count": 78,
   "id": "3a871b07-62fc-4516-b5a8-f1aecdb49144",
   "metadata": {},
   "outputs": [
    {
     "data": {
      "text/plain": [
       "This pandapower network is empty"
      ]
     },
     "execution_count": 78,
     "metadata": {},
     "output_type": "execute_result"
    }
   ],
   "source": [
    "my_net"
   ]
  },
  {
   "cell_type": "code",
   "execution_count": 79,
   "id": "caab0859-9f05-4803-84e2-5ac4aa36ef02",
   "metadata": {},
   "outputs": [],
   "source": [
    "#create buses\n",
    "bus1 = pp.create_bus(my_net, vn_kv=20., name=\"Bus 1\")\n",
    "bus2 = pp.create_bus(my_net, vn_kv=0.4, name=\"Bus 2\")\n",
    "bus3 = pp.create_bus(my_net, vn_kv=0.4, name=\"Bus 3\")"
   ]
  },
  {
   "cell_type": "code",
   "execution_count": 82,
   "id": "ce6329ca-8c80-4ac9-a72d-fdd988757717",
   "metadata": {},
   "outputs": [
    {
     "data": {
      "text/html": [
       "<div>\n",
       "<style scoped>\n",
       "    .dataframe tbody tr th:only-of-type {\n",
       "        vertical-align: middle;\n",
       "    }\n",
       "\n",
       "    .dataframe tbody tr th {\n",
       "        vertical-align: top;\n",
       "    }\n",
       "\n",
       "    .dataframe thead th {\n",
       "        text-align: right;\n",
       "    }\n",
       "</style>\n",
       "<table border=\"1\" class=\"dataframe\">\n",
       "  <thead>\n",
       "    <tr style=\"text-align: right;\">\n",
       "      <th></th>\n",
       "      <th>name</th>\n",
       "      <th>vn_kv</th>\n",
       "      <th>type</th>\n",
       "      <th>zone</th>\n",
       "      <th>in_service</th>\n",
       "    </tr>\n",
       "  </thead>\n",
       "  <tbody>\n",
       "    <tr>\n",
       "      <th>0</th>\n",
       "      <td>Bus 1</td>\n",
       "      <td>20.0</td>\n",
       "      <td>b</td>\n",
       "      <td>None</td>\n",
       "      <td>True</td>\n",
       "    </tr>\n",
       "    <tr>\n",
       "      <th>1</th>\n",
       "      <td>Bus 2</td>\n",
       "      <td>0.4</td>\n",
       "      <td>b</td>\n",
       "      <td>None</td>\n",
       "      <td>True</td>\n",
       "    </tr>\n",
       "    <tr>\n",
       "      <th>2</th>\n",
       "      <td>Bus 3</td>\n",
       "      <td>0.4</td>\n",
       "      <td>b</td>\n",
       "      <td>None</td>\n",
       "      <td>True</td>\n",
       "    </tr>\n",
       "  </tbody>\n",
       "</table>\n",
       "</div>"
      ],
      "text/plain": [
       "    name  vn_kv type  zone  in_service\n",
       "0  Bus 1   20.0    b  None        True\n",
       "1  Bus 2    0.4    b  None        True\n",
       "2  Bus 3    0.4    b  None        True"
      ]
     },
     "execution_count": 82,
     "metadata": {},
     "output_type": "execute_result"
    }
   ],
   "source": [
    "my_net.bus"
   ]
  },
  {
   "cell_type": "code",
   "execution_count": 105,
   "id": "20d2170d-06f0-4bf3-a684-86afb4669d09",
   "metadata": {},
   "outputs": [
    {
     "name": "stdout",
     "output_type": "stream",
     "text": [
      "<class 'numpy.int64'> 0\n"
     ]
    }
   ],
   "source": [
    "# The returned value is the index of the element in its table\n",
    "print(type(bus1), bus1)"
   ]
  },
  {
   "cell_type": "code",
   "execution_count": 83,
   "id": "2d64c8cd-784a-49ce-b6e3-ccb2b8a35720",
   "metadata": {},
   "outputs": [
    {
     "data": {
      "text/plain": [
       "0"
      ]
     },
     "execution_count": 83,
     "metadata": {},
     "output_type": "execute_result"
    }
   ],
   "source": [
    "#create bus elements\n",
    "pp.create_ext_grid(my_net, bus=bus1, vm_pu=1.02, name=\"Grid Connection\") # erstellt externes netz\n",
    "pp.create_load(my_net, bus=bus3, p_mw=0.100, q_mvar=0.05, name=\"Load\") # erstellt last"
   ]
  },
  {
   "cell_type": "code",
   "execution_count": 109,
   "id": "07075a59-aaf8-43e1-b415-37d9939e8077",
   "metadata": {},
   "outputs": [],
   "source": [
    "#create branch elements\n",
    "trafo = pp.create_transformer(my_net, hv_bus=bus1, lv_bus=bus2, std_type=\"0.4 MVA 20/0.4 kV\", name=\"Trafo\")\n",
    "line = pp.create_line(my_net, from_bus=bus2, to_bus=bus3, length_km=0.1, std_type=\"NAYY 4x50 SE\", name=\"Line\")"
   ]
  },
  {
   "cell_type": "code",
   "execution_count": 110,
   "id": "7dfc7447-6235-4e6f-8b20-75256181cf63",
   "metadata": {},
   "outputs": [
    {
     "data": {
      "text/plain": [
       "This pandapower network includes the following parameter tables:\n",
       "   - bus (3 element)\n",
       "   - load (1 elements)\n",
       "   - ext_grid (1 elements)\n",
       "   - line (1 elements)\n",
       "   - trafo (1 elements)"
      ]
     },
     "execution_count": 110,
     "metadata": {},
     "output_type": "execute_result"
    }
   ],
   "source": [
    "my_net"
   ]
  },
  {
   "cell_type": "code",
   "execution_count": 112,
   "id": "7dcfc3f4-7d5d-43a5-991c-43778ac94aed",
   "metadata": {},
   "outputs": [
    {
     "data": {
      "text/html": [
       "<div>\n",
       "<style scoped>\n",
       "    .dataframe tbody tr th:only-of-type {\n",
       "        vertical-align: middle;\n",
       "    }\n",
       "\n",
       "    .dataframe tbody tr th {\n",
       "        vertical-align: top;\n",
       "    }\n",
       "\n",
       "    .dataframe thead th {\n",
       "        text-align: right;\n",
       "    }\n",
       "</style>\n",
       "<table border=\"1\" class=\"dataframe\">\n",
       "  <thead>\n",
       "    <tr style=\"text-align: right;\">\n",
       "      <th></th>\n",
       "      <th>name</th>\n",
       "      <th>std_type</th>\n",
       "      <th>from_bus</th>\n",
       "      <th>to_bus</th>\n",
       "      <th>length_km</th>\n",
       "      <th>r_ohm_per_km</th>\n",
       "      <th>x_ohm_per_km</th>\n",
       "      <th>c_nf_per_km</th>\n",
       "      <th>g_us_per_km</th>\n",
       "      <th>max_i_ka</th>\n",
       "      <th>df</th>\n",
       "      <th>parallel</th>\n",
       "      <th>type</th>\n",
       "      <th>in_service</th>\n",
       "    </tr>\n",
       "  </thead>\n",
       "  <tbody>\n",
       "    <tr>\n",
       "      <th>0</th>\n",
       "      <td>Line</td>\n",
       "      <td>NAYY 4x50 SE</td>\n",
       "      <td>1</td>\n",
       "      <td>2</td>\n",
       "      <td>0.1</td>\n",
       "      <td>0.642</td>\n",
       "      <td>0.083</td>\n",
       "      <td>210.0</td>\n",
       "      <td>0.0</td>\n",
       "      <td>0.142</td>\n",
       "      <td>1.0</td>\n",
       "      <td>1</td>\n",
       "      <td>cs</td>\n",
       "      <td>True</td>\n",
       "    </tr>\n",
       "  </tbody>\n",
       "</table>\n",
       "</div>"
      ],
      "text/plain": [
       "   name      std_type  from_bus  to_bus  length_km  r_ohm_per_km  \\\n",
       "0  Line  NAYY 4x50 SE         1       2        0.1         0.642   \n",
       "\n",
       "   x_ohm_per_km  c_nf_per_km  g_us_per_km  max_i_ka   df  parallel type  \\\n",
       "0         0.083        210.0          0.0     0.142  1.0         1   cs   \n",
       "\n",
       "   in_service  \n",
       "0        True  "
      ]
     },
     "execution_count": 112,
     "metadata": {},
     "output_type": "execute_result"
    }
   ],
   "source": [
    "my_net.line"
   ]
  },
  {
   "cell_type": "code",
   "execution_count": 113,
   "id": "175a85c6-de2c-45a4-917c-c41e66dfa42e",
   "metadata": {},
   "outputs": [
    {
     "name": "stderr",
     "output_type": "stream",
     "text": [
      "No or insufficient geodata available --> Creating artificial coordinates. This may take some time\n"
     ]
    },
    {
     "data": {
      "image/png": "[encoded data removed]",
      "text/plain": [
       "<Figure size 1000x800 with 1 Axes>"
      ]
     },
     "metadata": {},
     "output_type": "display_data"
    },
    {
     "data": {
      "text/plain": [
       "<Axes: >"
      ]
     },
     "execution_count": 113,
     "metadata": {},
     "output_type": "execute_result"
    }
   ],
   "source": [
    "pp.plotting.simple_plot(my_net, plot_loads=True, plot_gens=True, plot_sgens=True)"
   ]
  },
  {
   "cell_type": "code",
   "execution_count": 114,
   "id": "3f752475-235c-45da-a1bf-293024e95c72",
   "metadata": {},
   "outputs": [],
   "source": [
    "pp.runpp(my_net, numba=False)"
   ]
  },
  {
   "cell_type": "code",
   "execution_count": 115,
   "id": "544813fb-777e-4c15-b7a4-5eaa7795a2c7",
   "metadata": {},
   "outputs": [
    {
     "data": {
      "text/html": [
       "<div>\n",
       "<style scoped>\n",
       "    .dataframe tbody tr th:only-of-type {\n",
       "        vertical-align: middle;\n",
       "    }\n",
       "\n",
       "    .dataframe tbody tr th {\n",
       "        vertical-align: top;\n",
       "    }\n",
       "\n",
       "    .dataframe thead th {\n",
       "        text-align: right;\n",
       "    }\n",
       "</style>\n",
       "<table border=\"1\" class=\"dataframe\">\n",
       "  <thead>\n",
       "    <tr style=\"text-align: right;\">\n",
       "      <th></th>\n",
       "      <th>vm_pu</th>\n",
       "      <th>va_degree</th>\n",
       "      <th>p_mw</th>\n",
       "      <th>q_mvar</th>\n",
       "    </tr>\n",
       "  </thead>\n",
       "  <tbody>\n",
       "    <tr>\n",
       "      <th>0</th>\n",
       "      <td>1.020000</td>\n",
       "      <td>0.000000</td>\n",
       "      <td>-0.107265</td>\n",
       "      <td>-0.052675</td>\n",
       "    </tr>\n",
       "    <tr>\n",
       "      <th>1</th>\n",
       "      <td>1.008843</td>\n",
       "      <td>-0.760126</td>\n",
       "      <td>0.000000</td>\n",
       "      <td>0.000000</td>\n",
       "    </tr>\n",
       "    <tr>\n",
       "      <th>2</th>\n",
       "      <td>0.964431</td>\n",
       "      <td>0.115859</td>\n",
       "      <td>0.100000</td>\n",
       "      <td>0.050000</td>\n",
       "    </tr>\n",
       "  </tbody>\n",
       "</table>\n",
       "</div>"
      ],
      "text/plain": [
       "      vm_pu  va_degree      p_mw    q_mvar\n",
       "0  1.020000   0.000000 -0.107265 -0.052675\n",
       "1  1.008843  -0.760126  0.000000  0.000000\n",
       "2  0.964431   0.115859  0.100000  0.050000"
      ]
     },
     "execution_count": 115,
     "metadata": {},
     "output_type": "execute_result"
    }
   ],
   "source": [
    "my_net.res_bus"
   ]
  },
  {
   "cell_type": "code",
   "execution_count": 118,
   "id": "6fe955fa-ff17-4510-a398-4197823c4056",
   "metadata": {},
   "outputs": [
    {
     "data": {
      "text/html": [
       "<div>\n",
       "<style scoped>\n",
       "    .dataframe tbody tr th:only-of-type {\n",
       "        vertical-align: middle;\n",
       "    }\n",
       "\n",
       "    .dataframe tbody tr th {\n",
       "        vertical-align: top;\n",
       "    }\n",
       "\n",
       "    .dataframe thead th {\n",
       "        text-align: right;\n",
       "    }\n",
       "</style>\n",
       "<table border=\"1\" class=\"dataframe\">\n",
       "  <thead>\n",
       "    <tr style=\"text-align: right;\">\n",
       "      <th></th>\n",
       "      <th>p_from_mw</th>\n",
       "      <th>q_from_mvar</th>\n",
       "      <th>p_to_mw</th>\n",
       "      <th>q_to_mvar</th>\n",
       "      <th>pl_mw</th>\n",
       "      <th>ql_mvar</th>\n",
       "      <th>i_from_ka</th>\n",
       "      <th>i_to_ka</th>\n",
       "      <th>i_ka</th>\n",
       "      <th>vm_from_pu</th>\n",
       "      <th>va_from_degree</th>\n",
       "      <th>vm_to_pu</th>\n",
       "      <th>va_to_degree</th>\n",
       "      <th>loading_percent</th>\n",
       "    </tr>\n",
       "  </thead>\n",
       "  <tbody>\n",
       "    <tr>\n",
       "      <th>0</th>\n",
       "      <td>0.105392</td>\n",
       "      <td>0.050696</td>\n",
       "      <td>-0.1</td>\n",
       "      <td>-0.05</td>\n",
       "      <td>0.005392</td>\n",
       "      <td>0.000696</td>\n",
       "      <td>0.167325</td>\n",
       "      <td>0.167326</td>\n",
       "      <td>0.167326</td>\n",
       "      <td>1.008843</td>\n",
       "      <td>-0.760126</td>\n",
       "      <td>0.964431</td>\n",
       "      <td>0.115859</td>\n",
       "      <td>117.835208</td>\n",
       "    </tr>\n",
       "  </tbody>\n",
       "</table>\n",
       "</div>"
      ],
      "text/plain": [
       "   p_from_mw  q_from_mvar  p_to_mw  q_to_mvar     pl_mw   ql_mvar  i_from_ka  \\\n",
       "0   0.105392     0.050696     -0.1      -0.05  0.005392  0.000696   0.167325   \n",
       "\n",
       "    i_to_ka      i_ka  vm_from_pu  va_from_degree  vm_to_pu  va_to_degree  \\\n",
       "0  0.167326  0.167326    1.008843       -0.760126  0.964431      0.115859   \n",
       "\n",
       "   loading_percent  \n",
       "0       117.835208  "
      ]
     },
     "execution_count": 118,
     "metadata": {},
     "output_type": "execute_result"
    }
   ],
   "source": [
    "# Unit descriptions in https://pandapower.readthedocs.io/en/latest/elements/line.html#result-parameters\n",
    "my_net.res_line"
   ]
  },
  {
   "cell_type": "markdown",
   "id": "83375662-099d-49a5-bed7-71abe6d4caed",
   "metadata": {},
   "source": [
    "## Beispielnetze und Simulation "
   ]
  },
  {
   "cell_type": "code",
   "execution_count": 119,
   "id": "8b8fa240-4112-4fd1-8f3b-ccb2bb432a1e",
   "metadata": {},
   "outputs": [],
   "source": [
    "# https://pandapower.readthedocs.io/en/latest/networks/test.html#pandapower.networks.simple_four_bus_system\n",
    "small_net = pp.networks.simple_four_bus_system()\n",
    "# pp.plotting.simple_plot(small_net, plot_loads=True, plot_gens=True, plot_sgens=True)"
   ]
  },
  {
   "cell_type": "markdown",
   "id": "b33c6c76-9023-46c8-a644-6ba674da1eb5",
   "metadata": {},
   "source": [
    "### Beispielnetz aus Simbench inklusive Beispielzeitreihen\n",
    "\n",
    "Simbench bietet viele Beispielnetze für unterschiedlichste Szenarien an: https://simbench.de/de/datensaetze/.\n",
    "(Link funktionierte bei mir nicht mit Firefox).\n",
    "\n",
    "Dieses Beispiel Notebook gibt einen guten Überblick über die möglichen Nutzungen der Netzwerke gemeinsam mit pandapower:\n",
    "https://github.com/e2nIEE/simbench/blob/master/tutorials/simbench_grids_basics_and_usage.ipynb."
   ]
  },
  {
   "cell_type": "code",
   "execution_count": null,
   "id": "6578c4d1-0d02-46ca-ac8a-27f37a47a0b6",
   "metadata": {},
   "outputs": [],
   "source": []
  },
  {
   "cell_type": "code",
   "execution_count": null,
   "id": "d291778f-7a34-4995-8312-6032a64bbde1",
   "metadata": {},
   "outputs": [],
   "source": [
    "# simbench - simbench.de - Zeitreihen von Verbrauchs/Einspeisedaten + Netze.\n",
    "sb_code_lv = \"1-LV-semiurb4--0-sw\"\n",
    "\n",
    "# creating a standard lv test network\n",
    "net = sb.get_simbench_net(sb_code_lv)"
   ]
  },
  {
   "cell_type": "code",
   "execution_count": null,
   "id": "bab94b9a-3e96-4f3a-aa66-2b882c36c235",
   "metadata": {},
   "outputs": [],
   "source": [
    "pp.plotting.simple_plot(net, plot_loads=True, plot_gens=True, plot_sgens=True)"
   ]
  },
  {
   "cell_type": "code",
   "execution_count": null,
   "id": "02fa8422-550f-4e35-8be5-71448d48bf40",
   "metadata": {},
   "outputs": [],
   "source": [
    "for key, df in net.profiles.items():\n",
    "    print(f\"{key}: {list(df.columns)}\\n\")"
   ]
  },
  {
   "cell_type": "code",
   "execution_count": null,
   "id": "76d3b507-69df-4510-a7f3-5d91193e49d3",
   "metadata": {},
   "outputs": [],
   "source": [
    "# Get PV data from simbench\n",
    "pv = net.profiles['renewables']\n",
    "pv.head()"
   ]
  },
  {
   "cell_type": "code",
   "execution_count": null,
   "id": "10447457-157a-484f-bd4f-1dc7a1192923",
   "metadata": {},
   "outputs": [],
   "source": [
    "# Make time the index, dayfirst for day.month.year and sort_index to allow slicing\n",
    "pv.index = pd.to_datetime(pv['time'], dayfirst=True)\n",
    "pv = pv['PV5'].sort_index()\n",
    "pv.tail()"
   ]
  },
  {
   "cell_type": "code",
   "execution_count": null,
   "id": "95caeae5-7964-4972-9dd2-145d7815fbf4",
   "metadata": {},
   "outputs": [],
   "source": [
    "fig, axs = plt.subplots(1, 2, figsize=(10, 3), sharey=True)\n",
    "fig.suptitle('Simbench PV profile')\n",
    "pv['2016-01-01' : '2016-01-10'].plot(ax=axs[0])\n",
    "pv['2016-06-01' : '2016-06-10'].plot(ax=axs[1])"
   ]
  },
  {
   "cell_type": "code",
   "execution_count": null,
   "id": "043a410c-a3b8-49b9-b91d-d6db9f0a9a3b",
   "metadata": {},
   "outputs": [],
   "source": [
    "h0A = net.profiles['load'].set_index('time')['H0-A_pload']\n",
    "h0A.index = pd.to_datetime(h0A.index, dayfirst=True)\n",
    "h0A = h0A.sort_index()"
   ]
  },
  {
   "cell_type": "code",
   "execution_count": null,
   "id": "bc7f4e94-187d-44d8-9354-b1e1fd30c535",
   "metadata": {},
   "outputs": [],
   "source": [
    "fig, axs = plt.subplots(1, 2, figsize=(10, 3), sharey=True)\n",
    "fig.suptitle('Simbench H0 profile')\n",
    "h0A['2016-01-01' : '2016-01-10'].plot(ax=axs[0])\n",
    "h0A['2016-06-01' : '2016-06-10'].plot(ax=axs[1])"
   ]
  },
  {
   "cell_type": "code",
   "execution_count": null,
   "id": "5f786877-2992-4f1f-a602-bcc01e0c8424",
   "metadata": {},
   "outputs": [],
   "source": []
  }
 ],
 "metadata": {
  "kernelspec": {
   "display_name": "Python 3 (ipykernel)",
   "language": "python",
   "name": "python3"
  },
  "language_info": {
   "codemirror_mode": {
    "name": "ipython",
    "version": 3
   },
   "file_extension": ".py",
   "mimetype": "text/x-python",
   "name": "python",
   "nbconvert_exporter": "python",
   "pygments_lexer": "ipython3",
   "version": "3.12.0"
  }
 },
 "nbformat": 4,
 "nbformat_minor": 5
}
