{
 "cells": [
  {
   "cell_type": "code",
   "execution_count": null,
   "id": "d7249046-28b8-4548-91cf-53ca7b2a4368",
   "metadata": {},
   "outputs": [],
   "source": [
    "# Start from simple example network and 2022 code of David"
   ]
  },
  {
   "cell_type": "code",
   "execution_count": null,
   "id": "c9d8c6ec-70a6-438f-a01b-92af71d83a85",
   "metadata": {},
   "outputs": [],
   "source": [
    "import matplotlib.pyplot as plt\n",
    "import pandapower as pp\n",
    "import pandas as pd\n",
    "import simbench as sb"
   ]
  },
  {
   "cell_type": "markdown",
   "id": "7f527d37-7aab-4839-8de8-35455fc4c6a3",
   "metadata": {},
   "source": [
    "## Pandapower Basics\n",
    "\n",
    "Wir bauen ein minimales Netz aus einzelnen Komponenten auf."
   ]
  },
  {
   "cell_type": "code",
   "execution_count": null,
   "id": "0cf061cd-1f38-4b40-9d8c-10e7730f6b23",
   "metadata": {},
   "outputs": [],
   "source": [
    "# From David Reihs Tutorial"
   ]
  },
  {
   "cell_type": "markdown",
   "id": "83375662-099d-49a5-bed7-71abe6d4caed",
   "metadata": {},
   "source": [
    "## Beispielnetze und Simulation "
   ]
  },
  {
   "cell_type": "code",
   "execution_count": null,
   "id": "8b8fa240-4112-4fd1-8f3b-ccb2bb432a1e",
   "metadata": {},
   "outputs": [],
   "source": [
    "# https://pandapower.readthedocs.io/en/latest/networks/test.html#pandapower.networks.simple_four_bus_system\n",
    "small_net = pp.networks.simple_four_bus_system()\n",
    "# pp.plotting.simple_plot(small_net, plot_loads=True, plot_gens=True, plot_sgens=True)"
   ]
  },
  {
   "cell_type": "markdown",
   "id": "b33c6c76-9023-46c8-a644-6ba674da1eb5",
   "metadata": {},
   "source": [
    "### Beispielnetz aus Simbench inklusive Beispielzeitreihen"
   ]
  },
  {
   "cell_type": "code",
   "execution_count": null,
   "id": "d291778f-7a34-4995-8312-6032a64bbde1",
   "metadata": {},
   "outputs": [],
   "source": [
    "# simbench - simbench.de - Zeitreihen von Verbrauchs/Einspeisedaten + Netze.\n",
    "sb_code_lv = \"1-LV-semiurb4--0-sw\"\n",
    "\n",
    "# creating a standard lv test network\n",
    "net = sb.get_simbench_net(sb_code_lv)"
   ]
  },
  {
   "cell_type": "code",
   "execution_count": null,
   "id": "bab94b9a-3e96-4f3a-aa66-2b882c36c235",
   "metadata": {},
   "outputs": [],
   "source": [
    "pp.plotting.simple_plot(net, plot_loads=True, plot_gens=True, plot_sgens=True)"
   ]
  },
  {
   "cell_type": "code",
   "execution_count": null,
   "id": "02fa8422-550f-4e35-8be5-71448d48bf40",
   "metadata": {},
   "outputs": [],
   "source": [
    "for key, df in net.profiles.items():\n",
    "    print(f\"{key}: {list(df.columns)}\\n\")"
   ]
  },
  {
   "cell_type": "code",
   "execution_count": null,
   "id": "76d3b507-69df-4510-a7f3-5d91193e49d3",
   "metadata": {},
   "outputs": [],
   "source": [
    "# Get PV data from simbench\n",
    "pv = net.profiles['renewables']\n",
    "pv.head()"
   ]
  },
  {
   "cell_type": "code",
   "execution_count": null,
   "id": "10447457-157a-484f-bd4f-1dc7a1192923",
   "metadata": {},
   "outputs": [],
   "source": [
    "# Make time the index, dayfirst for day.month.year and sort_index to allow slicing\n",
    "pv.index = pd.to_datetime(pv['time'], dayfirst=True)\n",
    "pv = pv['PV5'].sort_index()\n",
    "pv.tail()"
   ]
  },
  {
   "cell_type": "code",
   "execution_count": null,
   "id": "95caeae5-7964-4972-9dd2-145d7815fbf4",
   "metadata": {},
   "outputs": [],
   "source": [
    "fig, axs = plt.subplots(1, 2, figsize=(10, 3), sharey=True)\n",
    "fig.suptitle('Simbench PV profile')\n",
    "pv['2016-01-01' : '2016-01-10'].plot(ax=axs[0])\n",
    "pv['2016-06-01' : '2016-06-10'].plot(ax=axs[1])"
   ]
  },
  {
   "cell_type": "code",
   "execution_count": null,
   "id": "043a410c-a3b8-49b9-b91d-d6db9f0a9a3b",
   "metadata": {},
   "outputs": [],
   "source": [
    "h0A = net.profiles['load'].set_index('time')['H0-A_pload']\n",
    "h0A.index = pd.to_datetime(h0A.index, dayfirst=True)\n",
    "h0A = h0A.sort_index()"
   ]
  },
  {
   "cell_type": "code",
   "execution_count": null,
   "id": "bc7f4e94-187d-44d8-9354-b1e1fd30c535",
   "metadata": {},
   "outputs": [],
   "source": [
    "fig, axs = plt.subplots(1, 2, figsize=(10, 3), sharey=True)\n",
    "fig.suptitle('Simbench H0 profile')\n",
    "h0A['2016-01-01' : '2016-01-10'].plot(ax=axs[0])\n",
    "h0A['2016-06-01' : '2016-06-10'].plot(ax=axs[1])"
   ]
  },
  {
   "cell_type": "code",
   "execution_count": null,
   "id": "5f786877-2992-4f1f-a602-bcc01e0c8424",
   "metadata": {},
   "outputs": [],
   "source": []
  }
 ],
 "metadata": {
  "kernelspec": {
   "display_name": "Python 3 (ipykernel)",
   "language": "python",
   "name": "python3"
  },
  "language_info": {
   "codemirror_mode": {
    "name": "ipython",
    "version": 3
   },
   "file_extension": ".py",
   "mimetype": "text/x-python",
   "name": "python",
   "nbconvert_exporter": "python",
   "pygments_lexer": "ipython3",
   "version": "3.12.0"
  }
 },
 "nbformat": 4,
 "nbformat_minor": 5
}
